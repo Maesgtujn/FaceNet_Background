{
 "cells": [
  {
   "cell_type": "code",
   "execution_count": 14,
   "metadata": {
    "ExecuteTime": {
     "end_time": "2019-04-17T02:28:15.438432Z",
     "start_time": "2019-04-17T02:28:15.435375Z"
    }
   },
   "outputs": [],
   "source": [
    "from datetime import datetime\n",
    "import os\n",
    "import pickle"
   ]
  },
  {
   "cell_type": "code",
   "execution_count": 2,
   "metadata": {
    "ExecuteTime": {
     "end_time": "2019-04-17T02:26:39.728132Z",
     "start_time": "2019-04-17T02:26:39.711382Z"
    }
   },
   "outputs": [
    {
     "data": {
      "text/plain": [
       "'20190417'"
      ]
     },
     "execution_count": 2,
     "metadata": {},
     "output_type": "execute_result"
    }
   ],
   "source": [
    "datetime.now().strftime('%Y%m%d')"
   ]
  },
  {
   "cell_type": "code",
   "execution_count": 3,
   "metadata": {
    "ExecuteTime": {
     "end_time": "2019-04-17T02:26:40.557357Z",
     "start_time": "2019-04-17T02:26:40.552913Z"
    }
   },
   "outputs": [],
   "source": [
    "file_path = '/home/tedev0/FaceNet_Background'\n",
    "dataset_path = file_path + '/datasets/mxic_dataset'\n",
    "train_data_path = os.path.join(dataset_path, 'train/')"
   ]
  },
  {
   "cell_type": "code",
   "execution_count": 4,
   "metadata": {
    "ExecuteTime": {
     "end_time": "2019-04-17T02:26:42.266948Z",
     "start_time": "2019-04-17T02:26:42.262215Z"
    }
   },
   "outputs": [
    {
     "data": {
      "text/plain": [
       "'/home/tedev0/FaceNet_Background/datasets/mxic_dataset/train/'"
      ]
     },
     "execution_count": 4,
     "metadata": {},
     "output_type": "execute_result"
    }
   ],
   "source": [
    "train_data_path"
   ]
  },
  {
   "cell_type": "code",
   "execution_count": 5,
   "metadata": {
    "ExecuteTime": {
     "end_time": "2019-04-17T02:26:43.010462Z",
     "start_time": "2019-04-17T02:26:43.006368Z"
    }
   },
   "outputs": [],
   "source": [
    "class Face:\n",
    "    def __init__(self):\n",
    "        self.name = None\n",
    "        self.bounding_box = None\n",
    "        self.image = None\n",
    "        self.container_image = None\n",
    "        self.prob = None\n",
    "        self.embedding = None"
   ]
  },
  {
   "cell_type": "code",
   "execution_count": 6,
   "metadata": {
    "ExecuteTime": {
     "end_time": "2019-04-17T02:26:44.796033Z",
     "start_time": "2019-04-17T02:26:44.792862Z"
    }
   },
   "outputs": [],
   "source": [
    "face = Face()"
   ]
  },
  {
   "cell_type": "code",
   "execution_count": 26,
   "metadata": {
    "ExecuteTime": {
     "end_time": "2019-04-17T02:31:05.096804Z",
     "start_time": "2019-04-17T02:31:05.092699Z"
    }
   },
   "outputs": [],
   "source": [
    "face.name = 'MTP226'"
   ]
  },
  {
   "cell_type": "code",
   "execution_count": 8,
   "metadata": {
    "ExecuteTime": {
     "end_time": "2019-04-17T02:26:45.598409Z",
     "start_time": "2019-04-17T02:26:45.594970Z"
    }
   },
   "outputs": [],
   "source": [
    "images = os.listdir(os.path.join(train_data_path, face.name))"
   ]
  },
  {
   "cell_type": "code",
   "execution_count": 9,
   "metadata": {
    "ExecuteTime": {
     "end_time": "2019-04-17T02:26:46.271843Z",
     "start_time": "2019-04-17T02:26:46.268337Z"
    }
   },
   "outputs": [],
   "source": [
    "latest_images = max(images)"
   ]
  },
  {
   "cell_type": "code",
   "execution_count": 10,
   "metadata": {
    "ExecuteTime": {
     "end_time": "2019-04-17T02:26:47.189225Z",
     "start_time": "2019-04-17T02:26:47.184244Z"
    }
   },
   "outputs": [
    {
     "data": {
      "text/plain": [
       "'20190412'"
      ]
     },
     "execution_count": 10,
     "metadata": {},
     "output_type": "execute_result"
    }
   ],
   "source": [
    "b = latest_images.split('_')[1]\n",
    "b"
   ]
  },
  {
   "cell_type": "code",
   "execution_count": 11,
   "metadata": {
    "ExecuteTime": {
     "end_time": "2019-04-17T02:26:48.060971Z",
     "start_time": "2019-04-17T02:26:48.056039Z"
    }
   },
   "outputs": [
    {
     "data": {
      "text/plain": [
       "'20190417'"
      ]
     },
     "execution_count": 11,
     "metadata": {},
     "output_type": "execute_result"
    }
   ],
   "source": [
    "a = datetime.now().strftime('%Y%m%d')\n",
    "a"
   ]
  },
  {
   "cell_type": "code",
   "execution_count": 12,
   "metadata": {
    "ExecuteTime": {
     "end_time": "2019-04-17T02:27:58.028302Z",
     "start_time": "2019-04-17T02:27:58.024811Z"
    }
   },
   "outputs": [],
   "source": [
    "train_pkl_path = os.path.join(dataset_path, 'train_emb.pkl')"
   ]
  },
  {
   "cell_type": "code",
   "execution_count": 15,
   "metadata": {
    "ExecuteTime": {
     "end_time": "2019-04-17T02:28:19.047828Z",
     "start_time": "2019-04-17T02:28:19.039198Z"
    }
   },
   "outputs": [],
   "source": [
    "if os.path.exists(train_pkl_path):\n",
    "    with open(train_pkl_path, 'rb') as infile:\n",
    "        emb_train_array, train_labels, class_names = pickle.load(infile)"
   ]
  },
  {
   "cell_type": "code",
   "execution_count": 18,
   "metadata": {
    "ExecuteTime": {
     "end_time": "2019-04-17T02:29:58.372045Z",
     "start_time": "2019-04-17T02:29:58.359829Z"
    }
   },
   "outputs": [
    {
     "data": {
      "text/plain": [
       "['Arvin Chen',\n",
       " 'Edie Lu',\n",
       " 'Elina Nie',\n",
       " 'M00013',\n",
       " 'M00172',\n",
       " 'M00345',\n",
       " 'M00530',\n",
       " 'M00568',\n",
       " 'M00604',\n",
       " 'MTP222',\n",
       " 'MTP223',\n",
       " 'MTP227',\n",
       " 'Tony Gu',\n",
       " 'MTP226']"
      ]
     },
     "execution_count": 18,
     "metadata": {},
     "output_type": "execute_result"
    }
   ],
   "source": [
    "class_names"
   ]
  },
  {
   "cell_type": "code",
   "execution_count": 27,
   "metadata": {
    "ExecuteTime": {
     "end_time": "2019-04-17T02:31:08.952177Z",
     "start_time": "2019-04-17T02:31:08.948150Z"
    }
   },
   "outputs": [],
   "source": [
    "q = face.name in class_names"
   ]
  },
  {
   "cell_type": "code",
   "execution_count": 28,
   "metadata": {
    "ExecuteTime": {
     "end_time": "2019-04-17T02:31:12.089642Z",
     "start_time": "2019-04-17T02:31:12.084153Z"
    }
   },
   "outputs": [
    {
     "data": {
      "text/plain": [
       "True"
      ]
     },
     "execution_count": 28,
     "metadata": {},
     "output_type": "execute_result"
    }
   ],
   "source": [
    "q"
   ]
  },
  {
   "cell_type": "code",
   "execution_count": 29,
   "metadata": {
    "ExecuteTime": {
     "end_time": "2019-04-17T02:49:02.716591Z",
     "start_time": "2019-04-17T02:49:02.712878Z"
    }
   },
   "outputs": [],
   "source": [
    "import shutil"
   ]
  },
  {
   "cell_type": "code",
   "execution_count": 35,
   "metadata": {
    "ExecuteTime": {
     "end_time": "2019-04-17T03:00:26.015022Z",
     "start_time": "2019-04-17T03:00:26.011272Z"
    }
   },
   "outputs": [],
   "source": [
    "test_path = '/home/tedev0/gitprojects/facenet/myfacedata1'"
   ]
  },
  {
   "cell_type": "code",
   "execution_count": 45,
   "metadata": {
    "ExecuteTime": {
     "end_time": "2019-04-17T03:11:51.996174Z",
     "start_time": "2019-04-17T03:11:51.992325Z"
    }
   },
   "outputs": [],
   "source": [
    "newcomer_class_name = 'Arvin_Chen'\n",
    "newcomer_class_name1 = 'Amily_Gu'"
   ]
  },
  {
   "cell_type": "code",
   "execution_count": 46,
   "metadata": {
    "ExecuteTime": {
     "end_time": "2019-04-17T03:12:22.670687Z",
     "start_time": "2019-04-17T03:12:22.663387Z"
    }
   },
   "outputs": [
    {
     "name": "stdout",
     "output_type": "stream",
     "text": [
      "Arvin_Chen  not found\n"
     ]
    }
   ],
   "source": [
    "try:\n",
    "    shutil.rmtree(test_path + os.path.join('/test', newcomer_class_name1))\n",
    "    shutil.rmtree(test_path + os.path.join('/test', newcomer_class_name))   \n",
    "    print(newcomer_class_name, ' images has been deleted')\n",
    "except FileNotFoundError:\n",
    "    print(newcomer_class_name, ' not found')"
   ]
  },
  {
   "cell_type": "code",
   "execution_count": 48,
   "metadata": {
    "ExecuteTime": {
     "end_time": "2019-04-17T05:25:13.819689Z",
     "start_time": "2019-04-17T05:25:13.813377Z"
    }
   },
   "outputs": [
    {
     "data": {
      "text/plain": [
       "'/home/tedev0/FaceNet_Background/datasets/mxic_dataset/train/MTP226/Arvin_Chen'"
      ]
     },
     "execution_count": 48,
     "metadata": {},
     "output_type": "execute_result"
    }
   ],
   "source": [
    "os.path.join(os.path.join(train_data_path, face.name), newcomer_class_name)"
   ]
  },
  {
   "cell_type": "code",
   "execution_count": null,
   "metadata": {},
   "outputs": [],
   "source": []
  }
 ],
 "metadata": {
  "kernelspec": {
   "display_name": "Python 3",
   "language": "python",
   "name": "python3"
  },
  "language_info": {
   "codemirror_mode": {
    "name": "ipython",
    "version": 3
   },
   "file_extension": ".py",
   "mimetype": "text/x-python",
   "name": "python",
   "nbconvert_exporter": "python",
   "pygments_lexer": "ipython3",
   "version": "3.5.2"
  },
  "toc": {
   "base_numbering": 1,
   "nav_menu": {},
   "number_sections": true,
   "sideBar": true,
   "skip_h1_title": false,
   "title_cell": "Table of Contents",
   "title_sidebar": "Contents",
   "toc_cell": false,
   "toc_position": {},
   "toc_section_display": true,
   "toc_window_display": false
  },
  "varInspector": {
   "cols": {
    "lenName": 16,
    "lenType": 16,
    "lenVar": 40
   },
   "kernels_config": {
    "python": {
     "delete_cmd_postfix": "",
     "delete_cmd_prefix": "del ",
     "library": "var_list.py",
     "varRefreshCmd": "print(var_dic_list())"
    },
    "r": {
     "delete_cmd_postfix": ") ",
     "delete_cmd_prefix": "rm(",
     "library": "var_list.r",
     "varRefreshCmd": "cat(var_dic_list()) "
    }
   },
   "types_to_exclude": [
    "module",
    "function",
    "builtin_function_or_method",
    "instance",
    "_Feature"
   ],
   "window_display": false
  }
 },
 "nbformat": 4,
 "nbformat_minor": 1
}
